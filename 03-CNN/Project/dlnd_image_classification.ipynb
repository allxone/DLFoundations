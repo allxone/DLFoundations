{
 "cells": [
  {
   "cell_type": "markdown",
   "metadata": {
    "collapsed": true
   },
   "source": [
    "# Image Classification\n",
    "In this project, you'll classify images from the [CIFAR-10 dataset](https://www.cs.toronto.edu/~kriz/cifar.html).  The dataset consists of airplanes, dogs, cats, and other objects. You'll preprocess the images, then train a convolutional neural network on all the samples. The images need to be normalized and the labels need to be one-hot encoded.  You'll get to apply what you learned and build a convolutional, max pooling, dropout, and fully connected layers.  At the end, you'll get to see your neural network's predictions on the sample images.\n",
    "## Get the Data\n",
    "Run the following cell to download the [CIFAR-10 dataset for python](https://www.cs.toronto.edu/~kriz/cifar-10-python.tar.gz)."
   ]
  },
  {
   "cell_type": "code",
   "execution_count": 1,
   "metadata": {},
   "outputs": [
    {
     "name": "stdout",
     "output_type": "stream",
     "text": [
      "All files found!\n"
     ]
    }
   ],
   "source": [
    "\"\"\"\n",
    "DON'T MODIFY ANYTHING IN THIS CELL THAT IS BELOW THIS LINE\n",
    "\"\"\"\n",
    "from urllib.request import urlretrieve\n",
    "from os.path import isfile, isdir\n",
    "from tqdm import tqdm\n",
    "import problem_unittests as tests\n",
    "import tarfile\n",
    "\n",
    "cifar10_dataset_folder_path = 'cifar-10-batches-py'\n",
    "\n",
    "# Use Floyd's cifar-10 dataset if present\n",
    "floyd_cifar10_location = '/input/cifar-10/python.tar.gz'\n",
    "if isfile(floyd_cifar10_location):\n",
    "    tar_gz_path = floyd_cifar10_location\n",
    "else:\n",
    "    tar_gz_path = 'cifar-10-python.tar.gz'\n",
    "\n",
    "class DLProgress(tqdm):\n",
    "    last_block = 0\n",
    "\n",
    "    def hook(self, block_num=1, block_size=1, total_size=None):\n",
    "        self.total = total_size\n",
    "        self.update((block_num - self.last_block) * block_size)\n",
    "        self.last_block = block_num\n",
    "\n",
    "if not isfile(tar_gz_path):\n",
    "    with DLProgress(unit='B', unit_scale=True, miniters=1, desc='CIFAR-10 Dataset') as pbar:\n",
    "        urlretrieve(\n",
    "            'https://www.cs.toronto.edu/~kriz/cifar-10-python.tar.gz',\n",
    "            tar_gz_path,\n",
    "            pbar.hook)\n",
    "\n",
    "if not isdir(cifar10_dataset_folder_path):\n",
    "    with tarfile.open(tar_gz_path) as tar:\n",
    "        tar.extractall()\n",
    "        tar.close()\n",
    "\n",
    "\n",
    "tests.test_folder_path(cifar10_dataset_folder_path)"
   ]
  },
  {
   "cell_type": "markdown",
   "metadata": {},
   "source": [
    "## Explore the Data\n",
    "The dataset is broken into batches to prevent your machine from running out of memory.  The CIFAR-10 dataset consists of 5 batches, named `data_batch_1`, `data_batch_2`, etc.. Each batch contains the labels and images that are one of the following:\n",
    "* airplane\n",
    "* automobile\n",
    "* bird\n",
    "* cat\n",
    "* deer\n",
    "* dog\n",
    "* frog\n",
    "* horse\n",
    "* ship\n",
    "* truck\n",
    "\n",
    "Understanding a dataset is part of making predictions on the data.  Play around with the code cell below by changing the `batch_id` and `sample_id`. The `batch_id` is the id for a batch (1-5). The `sample_id` is the id for a image and label pair in the batch.\n",
    "\n",
    "Ask yourself \"What are all possible labels?\", \"What is the range of values for the image data?\", \"Are the labels in order or random?\".  Answers to questions like these will help you preprocess the data and end up with better predictions."
   ]
  },
  {
   "cell_type": "code",
   "execution_count": 2,
   "metadata": {},
   "outputs": [
    {
     "name": "stdout",
     "output_type": "stream",
     "text": [
      "\n",
      "Stats of batch 1:\n",
      "Samples: 10000\n",
      "Label Counts: {0: 1005, 1: 974, 2: 1032, 3: 1016, 4: 999, 5: 937, 6: 1030, 7: 1001, 8: 1025, 9: 981}\n",
      "First 20 Labels: [6, 9, 9, 4, 1, 1, 2, 7, 8, 3, 4, 7, 7, 2, 9, 9, 9, 3, 2, 6]\n",
      "\n",
      "Example of Image 5:\n",
      "Image - Min Value: 0 Max Value: 252\n",
      "Image - Shape: (32, 32, 3)\n",
      "Label - Label Id: 1 Name: automobile\n"
     ]
    },
    {
     "data": {
      "image/png": "[encoded data removed]",
      "text/plain": [
       "<matplotlib.figure.Figure at 0x1acd3c9cf28>"
      ]
     },
     "metadata": {
      "image/png": {
       "height": 250,
       "width": 253
      }
     },
     "output_type": "display_data"
    }
   ],
   "source": [
    "%matplotlib inline\n",
    "%config InlineBackend.figure_format = 'retina'\n",
    "\n",
    "import helper\n",
    "import numpy as np\n",
    "\n",
    "# Explore the dataset\n",
    "batch_id = 1\n",
    "sample_id = 5\n",
    "helper.display_stats(cifar10_dataset_folder_path, batch_id, sample_id)"
   ]
  },
  {
   "cell_type": "markdown",
   "metadata": {},
   "source": [
    "## Implement Preprocess Functions\n",
    "### Normalize\n",
    "In the cell below, implement the `normalize` function to take in image data, `x`, and return it as a normalized Numpy array. The values should be in the range of 0 to 1, inclusive.  The return object should be the same shape as `x`."
   ]
  },
  {
   "cell_type": "code",
   "execution_count": 3,
   "metadata": {},
   "outputs": [
    {
     "name": "stdout",
     "output_type": "stream",
     "text": [
      "Tests Passed\n"
     ]
    }
   ],
   "source": [
    "def normalize(x):\n",
    "    \"\"\"\n",
    "    Normalize a list of sample image data in the range of 0 to 1\n",
    "    : x: List of image data.  The image shape is (32, 32, 3)\n",
    "    : return: Numpy array of normalize data\n",
    "    \"\"\"\n",
    "    return x/255.0\n",
    "\n",
    "\n",
    "\n",
    "\"\"\"\n",
    "DON'T MODIFY ANYTHING IN THIS CELL THAT IS BELOW THIS LINE\n",
    "\"\"\"\n",
    "tests.test_normalize(normalize)"
   ]
  },
  {
   "cell_type": "markdown",
   "metadata": {},
   "source": [
    "### One-hot encode\n",
    "Just like the previous code cell, you'll be implementing a function for preprocessing.  This time, you'll implement the `one_hot_encode` function. The input, `x`, are a list of labels.  Implement the function to return the list of labels as One-Hot encoded Numpy array.  The possible values for labels are 0 to 9. The one-hot encoding function should return the same encoding for each value between each call to `one_hot_encode`.  Make sure to save the map of encodings outside the function.\n",
    "\n",
    "Hint: Don't reinvent the wheel."
   ]
  },
  {
   "cell_type": "code",
   "execution_count": 4,
   "metadata": {},
   "outputs": [
    {
     "name": "stdout",
     "output_type": "stream",
     "text": [
      "Tests Passed\n"
     ]
    }
   ],
   "source": [
    "from sklearn import preprocessing\n",
    "\n",
    "lb = preprocessing.LabelBinarizer()\n",
    "\n",
    "def one_hot_encode(x):\n",
    "    \"\"\"\n",
    "    One hot encode a list of sample labels. Return a one-hot encoded vector for each label.\n",
    "    : x: List of sample Labels\n",
    "    : return: Numpy array of one-hot encoded labels\n",
    "    \"\"\"\n",
    "    if \"classes_\" not in dir(lb):\n",
    "        lb.fit(x)\n",
    "    \n",
    "    return lb.transform(x)\n",
    "\n",
    "\"\"\"\n",
    "DON'T MODIFY ANYTHING IN THIS CELL THAT IS BELOW THIS LINE\n",
    "\"\"\"\n",
    "tests.test_one_hot_encode(one_hot_encode)"
   ]
  },
  {
   "cell_type": "markdown",
   "metadata": {},
   "source": [
    "### Randomize Data\n",
    "As you saw from exploring the data above, the order of the samples are randomized.  It doesn't hurt to randomize it again, but you don't need to for this dataset."
   ]
  },
  {
   "cell_type": "markdown",
   "metadata": {},
   "source": [
    "## Preprocess all the data and save it\n",
    "Running the code cell below will preprocess all the CIFAR-10 data and save it to file. The code below also uses 10% of the training data for validation."
   ]
  },
  {
   "cell_type": "code",
   "execution_count": 5,
   "metadata": {},
   "outputs": [],
   "source": [
    "\"\"\"\n",
    "DON'T MODIFY ANYTHING IN THIS CELL\n",
    "\"\"\"\n",
    "# Preprocess Training, Validation, and Testing Data\n",
    "helper.preprocess_and_save_data(cifar10_dataset_folder_path, normalize, one_hot_encode)"
   ]
  },
  {
   "cell_type": "markdown",
   "metadata": {},
   "source": [
    "# Check Point\n",
    "This is your first checkpoint.  If you ever decide to come back to this notebook or have to restart the notebook, you can start from here.  The preprocessed data has been saved to disk."
   ]
  },
  {
   "cell_type": "code",
   "execution_count": 6,
   "metadata": {},
   "outputs": [],
   "source": [
    "\"\"\"\n",
    "DON'T MODIFY ANYTHING IN THIS CELL\n",
    "\"\"\"\n",
    "import pickle\n",
    "import problem_unittests as tests\n",
    "import helper\n",
    "\n",
    "# Load the Preprocessed Validation data\n",
    "valid_features, valid_labels = pickle.load(open('preprocess_validation.p', mode='rb'))"
   ]
  },
  {
   "cell_type": "markdown",
   "metadata": {},
   "source": [
    "## Build the network\n",
    "For the neural network, you'll build each layer into a function.  Most of the code you've seen has been outside of functions. To test your code more thoroughly, we require that you put each layer in a function.  This allows us to give you better feedback and test for simple mistakes using our unittests before you submit your project.\n",
    "\n",
    ">**Note:** If you're finding it hard to dedicate enough time for this course each week, we've provided a small shortcut to this part of the project. In the next couple of problems, you'll have the option to use classes from the [TensorFlow Layers](https://www.tensorflow.org/api_docs/python/tf/layers) or [TensorFlow Layers (contrib)](https://www.tensorflow.org/api_guides/python/contrib.layers) packages to build each layer, except the layers you build in the \"Convolutional and Max Pooling Layer\" section.  TF Layers is similar to Keras's and TFLearn's abstraction to layers, so it's easy to pickup.\n",
    "\n",
    ">However, if you would like to get the most out of this course, try to solve all the problems _without_ using anything from the TF Layers packages. You **can** still use classes from other packages that happen to have the same name as ones you find in TF Layers! For example, instead of using the TF Layers version of the `conv2d` class, [tf.layers.conv2d](https://www.tensorflow.org/api_docs/python/tf/layers/conv2d), you would want to use the TF Neural Network version of `conv2d`, [tf.nn.conv2d](https://www.tensorflow.org/api_docs/python/tf/nn/conv2d). \n",
    "\n",
    "Let's begin!\n",
    "\n",
    "### Input\n",
    "The neural network needs to read the image data, one-hot encoded labels, and dropout keep probability. Implement the following functions\n",
    "* Implement `neural_net_image_input`\n",
    " * Return a [TF Placeholder](https://www.tensorflow.org/api_docs/python/tf/placeholder)\n",
    " * Set the shape using `image_shape` with batch size set to `None`.\n",
    " * Name the TensorFlow placeholder \"x\" using the TensorFlow `name` parameter in the [TF Placeholder](https://www.tensorflow.org/api_docs/python/tf/placeholder).\n",
    "* Implement `neural_net_label_input`\n",
    " * Return a [TF Placeholder](https://www.tensorflow.org/api_docs/python/tf/placeholder)\n",
    " * Set the shape using `n_classes` with batch size set to `None`.\n",
    " * Name the TensorFlow placeholder \"y\" using the TensorFlow `name` parameter in the [TF Placeholder](https://www.tensorflow.org/api_docs/python/tf/placeholder).\n",
    "* Implement `neural_net_keep_prob_input`\n",
    " * Return a [TF Placeholder](https://www.tensorflow.org/api_docs/python/tf/placeholder) for dropout keep probability.\n",
    " * Name the TensorFlow placeholder \"keep_prob\" using the TensorFlow `name` parameter in the [TF Placeholder](https://www.tensorflow.org/api_docs/python/tf/placeholder).\n",
    "\n",
    "These names will be used at the end of the project to load your saved model.\n",
    "\n",
    "Note: `None` for shapes in TensorFlow allow for a dynamic size."
   ]
  },
  {
   "cell_type": "code",
   "execution_count": 7,
   "metadata": {},
   "outputs": [
    {
     "name": "stdout",
     "output_type": "stream",
     "text": [
      "Image Input Tests Passed.\n",
      "Label Input Tests Passed.\n",
      "Keep Prob Tests Passed.\n"
     ]
    }
   ],
   "source": [
    "import tensorflow as tf\n",
    "from math import sqrt\n",
    "\n",
    "def neural_net_image_input(image_shape):\n",
    "    \"\"\"\n",
    "    Return a Tensor for a batch of image input\n",
    "    : image_shape: Shape of the images\n",
    "    : return: Tensor for image input.\n",
    "    \"\"\"\n",
    "    x = tf.placeholder(tf.float32, [None, *image_shape], name = \"x\")\n",
    "    return x\n",
    "\n",
    "def neural_net_label_input(n_classes):\n",
    "    \"\"\"\n",
    "    Return a Tensor for a batch of label input\n",
    "    : n_classes: Number of classes\n",
    "    : return: Tensor for label input.\n",
    "    \"\"\"\n",
    "    y = tf.placeholder(tf.float32, [None, n_classes], name = \"y\")\n",
    "    return y\n",
    "\n",
    "def neural_net_keep_prob_input():\n",
    "    \"\"\"\n",
    "    Return a Tensor for keep probability\n",
    "    : return: Tensor for keep probability.\n",
    "    \"\"\"\n",
    "    keep_prob = tf.placeholder(tf.float32, name = \"keep_prob\")\n",
    "    return keep_prob\n",
    "\n",
    "def get_stddev(num_outputs):\n",
    "    return 1.0/sqrt(num_outputs)\n",
    "\n",
    "\"\"\"\n",
    "DON'T MODIFY ANYTHING IN THIS CELL THAT IS BELOW THIS LINE\n",
    "\"\"\"\n",
    "tf.reset_default_graph()\n",
    "tests.test_nn_image_inputs(neural_net_image_input)\n",
    "tests.test_nn_label_inputs(neural_net_label_input)\n",
    "tests.test_nn_keep_prob_inputs(neural_net_keep_prob_input)\n"
   ]
  },
  {
   "cell_type": "markdown",
   "metadata": {},
   "source": [
    "### Convolution and Max Pooling Layer\n",
    "Convolution layers have a lot of success with images. For this code cell, you should implement the function `conv2d_maxpool` to apply convolution then max pooling:\n",
    "* Create the weight and bias using `conv_ksize`, `conv_num_outputs` and the shape of `x_tensor`.\n",
    "* Apply a convolution to `x_tensor` using weight and `conv_strides`.\n",
    " * We recommend you use same padding, but you're welcome to use any padding.\n",
    "* Add bias\n",
    "* Add a nonlinear activation to the convolution.\n",
    "* Apply Max Pooling using `pool_ksize` and `pool_strides`.\n",
    " * We recommend you use same padding, but you're welcome to use any padding.\n",
    "\n",
    "**Note:** You **can't** use [TensorFlow Layers](https://www.tensorflow.org/api_docs/python/tf/layers) or [TensorFlow Layers (contrib)](https://www.tensorflow.org/api_guides/python/contrib.layers) for **this** layer, but you can still use TensorFlow's [Neural Network](https://www.tensorflow.org/api_docs/python/tf/nn) package. You may still use the shortcut option for all the **other** layers."
   ]
  },
  {
   "cell_type": "code",
   "execution_count": 8,
   "metadata": {},
   "outputs": [
    {
     "name": "stdout",
     "output_type": "stream",
     "text": [
      "CONV input shape: (?, 32, 32, 5) Placeholder:0\n",
      "POOL input shape: (?, 8, 8, 10) RELU:0\n",
      "Tests Passed\n"
     ]
    }
   ],
   "source": [
    "def conv2d_maxpool(x_tensor, conv_num_outputs, conv_ksize, conv_strides, pool_ksize, pool_strides):\n",
    "    \"\"\"\n",
    "    Apply convolution then max pooling to x_tensor\n",
    "    :param x_tensor: TensorFlow Tensor\n",
    "    :param conv_num_outputs: Number of outputs for the convolutional layer\n",
    "    :param conv_ksize: kernal size 2-D Tuple for the convolutional layer\n",
    "    :param conv_strides: Stride 2-D Tuple for convolution\n",
    "    :param pool_ksize: kernal size 2-D Tuple for pool\n",
    "    :param pool_strides: Stride 2-D Tuple for pool\n",
    "    : return: A tensor that represents convolution and max pooling of x_tensor\n",
    "    \"\"\"\n",
    "    print(\"CONV input shape: {} {}\".format(x_tensor.shape, x_tensor.name))    \n",
    "\n",
    "    # Create the weight and bias using conv_ksize, conv_num_outputs and the shape of x_tensor\n",
    "    F_W = tf.Variable(tf.truncated_normal([*conv_ksize, x_tensor.shape[-1].value, conv_num_outputs]\n",
    "                                          , stddev= get_stddev(conv_num_outputs)))\n",
    "    F_b = tf.Variable(tf.truncated_normal([conv_num_outputs]\n",
    "                                          , stddev= get_stddev(conv_num_outputs)))                                          \n",
    "\n",
    "                      \n",
    "    # Apply a convolution to x_tensor using weight and conv_strides\n",
    "    padding = \"SAME\"\n",
    "    strides = [1, *conv_strides, 1]\n",
    "    lastLayer = tf.nn.conv2d(x_tensor, F_W, strides, padding, name = \"CONV\")\n",
    "    \n",
    "    # Add bias        \n",
    "    lastLayer = tf.add(lastLayer, F_b, name = \"BIAS\")\n",
    "            \n",
    "    # Add a nonlinear activation to the convolution.\n",
    "    lastLayer = tf.nn.relu(lastLayer, name = \"RELU\")\n",
    "    \n",
    "    # Apply Max Pooling using pool_ksize and pool_strides.\n",
    "    print(\"POOL input shape: {} {}\".format(lastLayer.shape, lastLayer.name))    \n",
    "\n",
    "    padding = \"SAME\"\n",
    "    strides = [1, *pool_strides, 1]\n",
    "    ksize = [1, *pool_ksize, 1]\n",
    "    lastLayer = tf.nn.max_pool(lastLayer, ksize, strides, padding, name = \"POOL\")\n",
    "                      \n",
    "    return lastLayer\n",
    "\n",
    "\n",
    "\"\"\"\n",
    "DON'T MODIFY ANYTHING IN THIS CELL THAT IS BELOW THIS LINE\n",
    "\"\"\"\n",
    "tests.test_con_pool(conv2d_maxpool)"
   ]
  },
  {
   "cell_type": "markdown",
   "metadata": {},
   "source": [
    "### Flatten Layer\n",
    "Implement the `flatten` function to change the dimension of `x_tensor` from a 4-D tensor to a 2-D tensor.  The output should be the shape (*Batch Size*, *Flattened Image Size*). Shortcut option: you can use classes from the [TensorFlow Layers](https://www.tensorflow.org/api_docs/python/tf/layers) or [TensorFlow Layers (contrib)](https://www.tensorflow.org/api_guides/python/contrib.layers) packages for this layer. For more of a challenge, only use other TensorFlow packages."
   ]
  },
  {
   "cell_type": "code",
   "execution_count": 9,
   "metadata": {},
   "outputs": [
    {
     "name": "stdout",
     "output_type": "stream",
     "text": [
      "FLAT input shape: (?, 10, 30, 6) Placeholder_1:0\n",
      "Tests Passed\n"
     ]
    }
   ],
   "source": [
    "import numpy as np\n",
    "from operator import mul\n",
    "\n",
    "def flatten(x_tensor):\n",
    "    \"\"\"\n",
    "    Flatten x_tensor to (Batch Size, Flattened Image Size)\n",
    "    : x_tensor: A tensor of size (Batch Size, ...), where ... are the image dimensions.\n",
    "    : return: A tensor of size (Batch Size, Flattened Image Size).\n",
    "    \"\"\"\n",
    "    print(\"FLAT input shape: {} {}\".format(x_tensor.shape, x_tensor.name))    \n",
    "\n",
    "    shape = x_tensor.get_shape().as_list()\n",
    "    flatten = np.prod(shape[1:])\n",
    "    return tf.reshape(x_tensor, [-1, flatten] )\n",
    "\n",
    "\n",
    "\"\"\"\n",
    "DON'T MODIFY ANYTHING IN THIS CELL THAT IS BELOW THIS LINE\n",
    "\"\"\"\n",
    "tests.test_flatten(flatten)"
   ]
  },
  {
   "cell_type": "markdown",
   "metadata": {},
   "source": [
    "### Fully-Connected Layer\n",
    "Implement the `fully_conn` function to apply a fully connected layer to `x_tensor` with the shape (*Batch Size*, *num_outputs*). Shortcut option: you can use classes from the [TensorFlow Layers](https://www.tensorflow.org/api_docs/python/tf/layers) or [TensorFlow Layers (contrib)](https://www.tensorflow.org/api_guides/python/contrib.layers) packages for this layer. For more of a challenge, only use other TensorFlow packages."
   ]
  },
  {
   "cell_type": "code",
   "execution_count": 10,
   "metadata": {},
   "outputs": [
    {
     "name": "stdout",
     "output_type": "stream",
     "text": [
      "FCON input shape: (?, 128) Placeholder_2:0\n",
      "Tests Passed\n"
     ]
    }
   ],
   "source": [
    "def fully_conn(x_tensor, num_outputs):\n",
    "    \"\"\"\n",
    "    Apply a fully connected layer to x_tensor using weight and bias\n",
    "    : x_tensor: A 2-D tensor where the first dimension is batch size.\n",
    "    : num_outputs: The number of output that the new tensor should be.\n",
    "    : return: A 2-D tensor where the second dimension is num_outputs.\n",
    "    \"\"\"\n",
    "    print(\"FCON input shape: {} {}\".format(x_tensor.shape, x_tensor.name))    \n",
    "\n",
    "    F_W = tf.Variable(tf.truncated_normal([x_tensor.shape[-1].value, num_outputs]\n",
    "                                          , stddev= get_stddev(num_outputs)))                                          \n",
    "    F_b = tf.Variable(tf.truncated_normal([num_outputs]\n",
    "                                          , stddev= get_stddev(num_outputs)))                                          \n",
    "    \n",
    "    return tf.nn.relu(tf.nn.bias_add(tf.matmul(x_tensor, F_W), F_b))\n",
    "\n",
    "\n",
    "\"\"\"\n",
    "DON'T MODIFY ANYTHING IN THIS CELL THAT IS BELOW THIS LINE\n",
    "\"\"\"\n",
    "tests.test_fully_conn(fully_conn)"
   ]
  },
  {
   "cell_type": "markdown",
   "metadata": {},
   "source": [
    "### Output Layer\n",
    "Implement the `output` function to apply a fully connected layer to `x_tensor` with the shape (*Batch Size*, *num_outputs*). Shortcut option: you can use classes from the [TensorFlow Layers](https://www.tensorflow.org/api_docs/python/tf/layers) or [TensorFlow Layers (contrib)](https://www.tensorflow.org/api_guides/python/contrib.layers) packages for this layer. For more of a challenge, only use other TensorFlow packages.\n",
    "\n",
    "**Note:** Activation, softmax, or cross entropy should **not** be applied to this."
   ]
  },
  {
   "cell_type": "code",
   "execution_count": 11,
   "metadata": {},
   "outputs": [
    {
     "name": "stdout",
     "output_type": "stream",
     "text": [
      "OUTP input shape: (?, 128) Placeholder_3:0\n",
      "Tests Passed\n"
     ]
    }
   ],
   "source": [
    "def output(x_tensor, num_outputs):\n",
    "    \"\"\"\n",
    "    Apply a output layer to x_tensor using weight and bias\n",
    "    : x_tensor: A 2-D tensor where the first dimension is batch size.\n",
    "    : num_outputs: The number of output that the new tensor should be.\n",
    "    : return: A 2-D tensor where the second dimension is num_outputs.\n",
    "    \"\"\"\n",
    "    print(\"OUTP input shape: {} {}\".format(x_tensor.shape, x_tensor.name))    \n",
    "\n",
    "    F_W = tf.Variable(tf.truncated_normal([x_tensor.shape[-1].value, num_outputs]\n",
    "                                          , stddev= get_stddev(num_outputs)))                                          \n",
    "    F_b = tf.Variable(tf.truncated_normal([num_outputs]\n",
    "                                          , stddev= get_stddev(num_outputs)))                                          \n",
    "    \n",
    "    return tf.nn.bias_add(tf.matmul(x_tensor, F_W), F_b)\n",
    "\n",
    "\n",
    "\"\"\"\n",
    "DON'T MODIFY ANYTHING IN THIS CELL THAT IS BELOW THIS LINE\n",
    "\"\"\"\n",
    "tests.test_output(output)"
   ]
  },
  {
   "cell_type": "markdown",
   "metadata": {},
   "source": [
    "### Create Convolutional Model\n",
    "Implement the function `conv_net` to create a convolutional neural network model. The function takes in a batch of images, `x`, and outputs logits.  Use the layers you created above to create this model:\n",
    "\n",
    "* Apply 1, 2, or 3 Convolution and Max Pool layers\n",
    "* Apply a Flatten Layer\n",
    "* Apply 1, 2, or 3 Fully Connected Layers\n",
    "* Apply an Output Layer\n",
    "* Return the output\n",
    "* Apply [TensorFlow's Dropout](https://www.tensorflow.org/api_docs/python/tf/nn/dropout) to one or more layers in the model using `keep_prob`. "
   ]
  },
  {
   "cell_type": "code",
   "execution_count": 12,
   "metadata": {},
   "outputs": [
    {
     "name": "stdout",
     "output_type": "stream",
     "text": [
      "CONV input shape: (?, 32, 32, 3) x:0\n",
      "POOL input shape: (?, 32, 32, 64) RELU:0\n",
      "CONV input shape: (?, 16, 16, 64) dropout/mul:0\n",
      "POOL input shape: (?, 16, 16, 128) RELU_1:0\n",
      "CONV input shape: (?, 8, 8, 128) dropout_1/mul:0\n",
      "POOL input shape: (?, 8, 8, 128) RELU_2:0\n",
      "FLAT input shape: (?, 4, 4, 128) dropout_2/mul:0\n",
      "FCON input shape: (?, 2048) Reshape:0\n",
      "FCON input shape: (?, 128) dropout_3/mul:0\n",
      "OUTP input shape: (?, 128) dropout_4/mul:0\n",
      "CONV input shape: (?, 32, 32, 3) Placeholder:0\n",
      "POOL input shape: (?, 32, 32, 64) RELU_3:0\n",
      "CONV input shape: (?, 16, 16, 64) dropout_5/mul:0\n",
      "POOL input shape: (?, 16, 16, 128) RELU_4:0\n",
      "CONV input shape: (?, 8, 8, 128) dropout_6/mul:0\n",
      "POOL input shape: (?, 8, 8, 128) RELU_5:0\n",
      "FLAT input shape: (?, 4, 4, 128) dropout_7/mul:0\n",
      "FCON input shape: (?, 2048) Reshape_4:0\n",
      "FCON input shape: (?, 128) dropout_8/mul:0\n",
      "OUTP input shape: (?, 128) dropout_9/mul:0\n",
      "Neural Network Built!\n"
     ]
    }
   ],
   "source": [
    "def conv_net(x, keep_prob):\n",
    "    \"\"\"\n",
    "    Create a convolutional neural network model\n",
    "    : x: Placeholder tensor that holds image data.\n",
    "    : keep_prob: Placeholder tensor that hold dropout keep probability.\n",
    "    : return: Tensor that represents logits\n",
    "    \"\"\"\n",
    "    \n",
    "    conv_num_outputs = [64, 128, 128]\n",
    "    conv_ksize = [(4,4),(4,4),(4,4)]\n",
    "    conv_strides = [(1,1),(1,1),(1,1)]\n",
    "    pool_ksize = [(2,2),(2,2),(2,2)]\n",
    "    pool_strides = [(2,2),(2,2),(2,2)]\n",
    "    fc_num_outputs = [128, 128]\n",
    "    num_outputs = 10\n",
    "    \n",
    "    x = conv2d_maxpool(x, conv_num_outputs[0], conv_ksize[0], conv_strides[0], pool_ksize[0], pool_strides[0],)\n",
    "    x = tf.nn.dropout(x, keep_prob)\n",
    "    x = conv2d_maxpool(x, conv_num_outputs[1], conv_ksize[1], conv_strides[1], pool_ksize[1], pool_strides[1],)\n",
    "    x = tf.nn.dropout(x, keep_prob)\n",
    "    x = conv2d_maxpool(x, conv_num_outputs[2], conv_ksize[2], conv_strides[2], pool_ksize[2], pool_strides[2],)\n",
    "    x = tf.nn.dropout(x, keep_prob)\n",
    "\n",
    "    x = flatten(x)\n",
    "\n",
    "    x = fully_conn(x, fc_num_outputs[0])\n",
    "    x = tf.nn.dropout(x, keep_prob)\n",
    "    x = fully_conn(x, fc_num_outputs[1])\n",
    "    x = tf.nn.dropout(x, keep_prob)\n",
    "    \n",
    "    x = output(x, num_outputs)\n",
    "    \n",
    "    return x\n",
    "\n",
    "\"\"\"\n",
    "DON'T MODIFY ANYTHING IN THIS CELL THAT IS BELOW THIS LINE\n",
    "\"\"\"\n",
    "\n",
    "##############################\n",
    "## Build the Neural Network ##\n",
    "##############################\n",
    "\n",
    "# Remove previous weights, bias, inputs, etc..\n",
    "tf.reset_default_graph()\n",
    "\n",
    "# Inputs\n",
    "x = neural_net_image_input((32, 32, 3))\n",
    "y = neural_net_label_input(10)\n",
    "keep_prob = neural_net_keep_prob_input()\n",
    "\n",
    "# Model\n",
    "logits = conv_net(x, keep_prob)\n",
    "\n",
    "# Name logits Tensor, so that is can be loaded from disk after training\n",
    "logits = tf.identity(logits, name='logits')\n",
    "\n",
    "# Loss and Optimizer\n",
    "cost = tf.reduce_mean(tf.nn.softmax_cross_entropy_with_logits(logits=logits, labels=y))\n",
    "optimizer = tf.train.AdamOptimizer().minimize(cost)\n",
    "\n",
    "# Accuracy\n",
    "correct_pred = tf.equal(tf.argmax(logits, 1), tf.argmax(y, 1))\n",
    "accuracy = tf.reduce_mean(tf.cast(correct_pred, tf.float32), name='accuracy')\n",
    "\n",
    "tests.test_conv_net(conv_net)"
   ]
  },
  {
   "cell_type": "markdown",
   "metadata": {},
   "source": [
    "## Train the Neural Network\n",
    "### Single Optimization\n",
    "Implement the function `train_neural_network` to do a single optimization.  The optimization should use `optimizer` to optimize in `session` with a `feed_dict` of the following:\n",
    "* `x` for image input\n",
    "* `y` for labels\n",
    "* `keep_prob` for keep probability for dropout\n",
    "\n",
    "This function will be called for each batch, so `tf.global_variables_initializer()` has already been called.\n",
    "\n",
    "Note: Nothing needs to be returned. This function is only optimizing the neural network."
   ]
  },
  {
   "cell_type": "code",
   "execution_count": 13,
   "metadata": {},
   "outputs": [
    {
     "name": "stdout",
     "output_type": "stream",
     "text": [
      "Tests Passed\n"
     ]
    }
   ],
   "source": [
    "def train_neural_network(session, optimizer, keep_probability, feature_batch, label_batch):\n",
    "    \"\"\"\n",
    "    Optimize the session on a batch of images and labels\n",
    "    : session: Current TensorFlow session\n",
    "    : optimizer: TensorFlow optimizer function\n",
    "    : keep_probability: keep probability\n",
    "    : feature_batch: Batch of Numpy image data\n",
    "    : label_batch: Batch of Numpy label data\n",
    "    \"\"\"\n",
    "    # TODO: Implement Function    \n",
    "    session.run(optimizer, feed_dict={x: feature_batch, y: label_batch, keep_prob: keep_probability})\n",
    "\n",
    "\n",
    "\n",
    "\"\"\"\n",
    "DON'T MODIFY ANYTHING IN THIS CELL THAT IS BELOW THIS LINE\n",
    "\"\"\"\n",
    "tests.test_train_nn(train_neural_network)"
   ]
  },
  {
   "cell_type": "markdown",
   "metadata": {},
   "source": [
    "### Show Stats\n",
    "Implement the function `print_stats` to print loss and validation accuracy.  Use the global variables `valid_features` and `valid_labels` to calculate validation accuracy.  Use a keep probability of `1.0` to calculate the loss and validation accuracy."
   ]
  },
  {
   "cell_type": "code",
   "execution_count": 14,
   "metadata": {},
   "outputs": [],
   "source": [
    "costs = {'train':[], 'validation':[]}\n",
    "accuracies = {'train':[], 'validation':[]}\n",
    "\n",
    "def print_stats(session, feature_batch, label_batch, cost, accuracy):\n",
    "    \"\"\"\n",
    "    Print information about loss and validation accuracy\n",
    "    : session: Current TensorFlow session\n",
    "    : feature_batch: Batch of Numpy image data\n",
    "    : label_batch: Batch of Numpy label data\n",
    "    : cost: TensorFlow cost function\n",
    "    : accuracy: TensorFlow accuracy function\n",
    "    \"\"\"\n",
    "    batch_cost = 0.0\n",
    "    batch_accuracy = 0.0\n",
    "    valid_cost = 0.0\n",
    "    valid_accuracy = 0.0\n",
    "    batch_cost = session.run(cost, feed_dict={x: feature_batch, y: label_batch, keep_prob: 1.0})\n",
    "#    batch_accuracy = session.run(accuracy, feed_dict={x: feature_batch, y: label_batch, keep_prob: 1.0})\n",
    "#    valid_cost = session.run(cost, feed_dict={x: valid_features, y: valid_labels, keep_prob: 1.0})\n",
    "    valid_accuracy = session.run(accuracy, feed_dict={x: valid_features, y: valid_labels, keep_prob: 1.0})\n",
    "    \n",
    "    costs['train'].append(batch_cost)\n",
    "    accuracies['train'].append(batch_accuracy)\n",
    "    costs['validation'].append(valid_cost)\n",
    "    accuracies['validation'].append(valid_accuracy)\n",
    "    print('B:cost {0:2.5f} accuracy {1:.1%} V:cost {2:2.5f} accuracy {3:.1%}'.format(batch_cost,\n",
    "                                                                batch_accuracy, valid_cost, valid_accuracy), end='\\n', flush=True)"
   ]
  },
  {
   "cell_type": "markdown",
   "metadata": {},
   "source": [
    "### Hyperparameters\n",
    "Tune the following parameters:\n",
    "* Set `epochs` to the number of iterations until the network stops learning or start overfitting\n",
    "* Set `batch_size` to the highest number that your machine has memory for.  Most people set them to common sizes of memory:\n",
    " * 64\n",
    " * 128\n",
    " * 256\n",
    " * ...\n",
    "* Set `keep_probability` to the probability of keeping a node using dropout"
   ]
  },
  {
   "cell_type": "code",
   "execution_count": 15,
   "metadata": {
    "collapsed": true
   },
   "outputs": [],
   "source": [
    "# TODO: Tune Parameters\n",
    "epochs = 50\n",
    "batch_size = 128\n",
    "keep_probability = 0.7\n",
    "costs = {'train':[], 'validation':[]}\n",
    "accuracies = {'train':[], 'validation':[]}"
   ]
  },
  {
   "cell_type": "markdown",
   "metadata": {},
   "source": [
    "### Train on a Single CIFAR-10 Batch\n",
    "Instead of training the neural network on all the CIFAR-10 batches of data, let's use a single batch. This should save time while you iterate on the model to get a better accuracy.  Once the final validation accuracy is 50% or greater, run the model on all the data in the next section."
   ]
  },
  {
   "cell_type": "code",
   "execution_count": 16,
   "metadata": {
    "scrolled": true
   },
   "outputs": [
    {
     "name": "stdout",
     "output_type": "stream",
     "text": [
      "Checking the Training on a Single Batch...\n",
      "Epoch  1, CIFAR-10 Batch 1:  B:cost 2.33519 accuracy 0.0% V:cost 0.00000 accuracy 10.3%\n",
      "Epoch  2, CIFAR-10 Batch 1:  B:cost 2.29774 accuracy 0.0% V:cost 0.00000 accuracy 13.6%\n",
      "Epoch  3, CIFAR-10 Batch 1:  B:cost 2.23121 accuracy 0.0% V:cost 0.00000 accuracy 15.9%\n",
      "Epoch  4, CIFAR-10 Batch 1:  B:cost 2.23573 accuracy 0.0% V:cost 0.00000 accuracy 14.2%\n",
      "Epoch  5, CIFAR-10 Batch 1:  B:cost 2.20055 accuracy 0.0% V:cost 0.00000 accuracy 17.8%\n",
      "Epoch  6, CIFAR-10 Batch 1:  B:cost 2.15266 accuracy 0.0% V:cost 0.00000 accuracy 20.3%\n",
      "Epoch  7, CIFAR-10 Batch 1:  B:cost 2.09057 accuracy 0.0% V:cost 0.00000 accuracy 25.5%\n",
      "Epoch  8, CIFAR-10 Batch 1:  B:cost 2.04774 accuracy 0.0% V:cost 0.00000 accuracy 30.8%\n",
      "Epoch  9, CIFAR-10 Batch 1:  B:cost 1.97551 accuracy 0.0% V:cost 0.00000 accuracy 33.0%\n",
      "Epoch 10, CIFAR-10 Batch 1:  B:cost 1.94661 accuracy 0.0% V:cost 0.00000 accuracy 35.3%\n",
      "Epoch 11, CIFAR-10 Batch 1:  B:cost 1.91945 accuracy 0.0% V:cost 0.00000 accuracy 36.9%\n",
      "Epoch 12, CIFAR-10 Batch 1:  B:cost 1.80392 accuracy 0.0% V:cost 0.00000 accuracy 40.8%\n",
      "Epoch 13, CIFAR-10 Batch 1:  B:cost 1.78015 accuracy 0.0% V:cost 0.00000 accuracy 42.5%\n",
      "Epoch 14, CIFAR-10 Batch 1:  B:cost 1.69441 accuracy 0.0% V:cost 0.00000 accuracy 42.8%\n",
      "Epoch 15, CIFAR-10 Batch 1:  B:cost 1.64687 accuracy 0.0% V:cost 0.00000 accuracy 44.9%\n",
      "Epoch 16, CIFAR-10 Batch 1:  B:cost 1.63947 accuracy 0.0% V:cost 0.00000 accuracy 43.5%\n",
      "Epoch 17, CIFAR-10 Batch 1:  B:cost 1.53912 accuracy 0.0% V:cost 0.00000 accuracy 45.5%\n",
      "Epoch 18, CIFAR-10 Batch 1:  B:cost 1.48154 accuracy 0.0% V:cost 0.00000 accuracy 46.4%\n",
      "Epoch 19, CIFAR-10 Batch 1:  B:cost 1.35416 accuracy 0.0% V:cost 0.00000 accuracy 48.8%\n",
      "Epoch 20, CIFAR-10 Batch 1:  B:cost 1.36482 accuracy 0.0% V:cost 0.00000 accuracy 48.4%\n",
      "Epoch 21, CIFAR-10 Batch 1:  B:cost 1.35293 accuracy 0.0% V:cost 0.00000 accuracy 49.7%\n",
      "Epoch 22, CIFAR-10 Batch 1:  B:cost 1.32274 accuracy 0.0% V:cost 0.00000 accuracy 48.8%\n",
      "Epoch 23, CIFAR-10 Batch 1:  B:cost 1.19376 accuracy 0.0% V:cost 0.00000 accuracy 51.2%\n",
      "Epoch 24, CIFAR-10 Batch 1:  B:cost 1.14156 accuracy 0.0% V:cost 0.00000 accuracy 52.0%\n",
      "Epoch 25, CIFAR-10 Batch 1:  B:cost 1.07975 accuracy 0.0% V:cost 0.00000 accuracy 53.5%\n",
      "Epoch 26, CIFAR-10 Batch 1:  B:cost 1.06138 accuracy 0.0% V:cost 0.00000 accuracy 52.3%\n",
      "Epoch 27, CIFAR-10 Batch 1:  B:cost 0.98028 accuracy 0.0% V:cost 0.00000 accuracy 54.4%\n",
      "Epoch 28, CIFAR-10 Batch 1:  B:cost 0.97517 accuracy 0.0% V:cost 0.00000 accuracy 54.6%\n",
      "Epoch 29, CIFAR-10 Batch 1:  B:cost 0.88546 accuracy 0.0% V:cost 0.00000 accuracy 55.2%\n",
      "Epoch 30, CIFAR-10 Batch 1:  B:cost 0.83332 accuracy 0.0% V:cost 0.00000 accuracy 55.8%\n",
      "Epoch 31, CIFAR-10 Batch 1:  B:cost 0.81080 accuracy 0.0% V:cost 0.00000 accuracy 57.4%\n",
      "Epoch 32, CIFAR-10 Batch 1:  B:cost 0.81896 accuracy 0.0% V:cost 0.00000 accuracy 57.8%\n",
      "Epoch 33, CIFAR-10 Batch 1:  B:cost 0.78253 accuracy 0.0% V:cost 0.00000 accuracy 57.0%\n",
      "Epoch 34, CIFAR-10 Batch 1:  B:cost 0.74617 accuracy 0.0% V:cost 0.00000 accuracy 59.1%\n",
      "Epoch 35, CIFAR-10 Batch 1:  B:cost 0.63180 accuracy 0.0% V:cost 0.00000 accuracy 57.9%\n",
      "Epoch 36, CIFAR-10 Batch 1:  B:cost 0.69130 accuracy 0.0% V:cost 0.00000 accuracy 59.7%\n",
      "Epoch 37, CIFAR-10 Batch 1:  B:cost 0.57112 accuracy 0.0% V:cost 0.00000 accuracy 59.0%\n",
      "Epoch 38, CIFAR-10 Batch 1:  B:cost 0.61973 accuracy 0.0% V:cost 0.00000 accuracy 59.3%\n",
      "Epoch 39, CIFAR-10 Batch 1:  B:cost 0.52107 accuracy 0.0% V:cost 0.00000 accuracy 59.2%\n",
      "Epoch 40, CIFAR-10 Batch 1:  B:cost 0.53396 accuracy 0.0% V:cost 0.00000 accuracy 61.1%\n",
      "Epoch 41, CIFAR-10 Batch 1:  B:cost 0.50769 accuracy 0.0% V:cost 0.00000 accuracy 60.9%\n",
      "Epoch 42, CIFAR-10 Batch 1:  B:cost 0.47949 accuracy 0.0% V:cost 0.00000 accuracy 59.7%\n",
      "Epoch 43, CIFAR-10 Batch 1:  B:cost 0.50453 accuracy 0.0% V:cost 0.00000 accuracy 62.0%\n",
      "Epoch 44, CIFAR-10 Batch 1:  B:cost 0.45933 accuracy 0.0% V:cost 0.00000 accuracy 62.5%\n",
      "Epoch 45, CIFAR-10 Batch 1:  B:cost 0.41520 accuracy 0.0% V:cost 0.00000 accuracy 62.6%\n",
      "Epoch 46, CIFAR-10 Batch 1:  B:cost 0.40555 accuracy 0.0% V:cost 0.00000 accuracy 62.5%\n",
      "Epoch 47, CIFAR-10 Batch 1:  B:cost 0.38607 accuracy 0.0% V:cost 0.00000 accuracy 64.4%\n",
      "Epoch 48, CIFAR-10 Batch 1:  B:cost 0.38401 accuracy 0.0% V:cost 0.00000 accuracy 63.9%\n",
      "Epoch 49, CIFAR-10 Batch 1:  B:cost 0.38712 accuracy 0.0% V:cost 0.00000 accuracy 64.5%\n",
      "Epoch 50, CIFAR-10 Batch 1:  B:cost 0.33489 accuracy 0.0% V:cost 0.00000 accuracy 64.5%\n"
     ]
    }
   ],
   "source": [
    "\"\"\"\n",
    "DON'T MODIFY ANYTHING IN THIS CELL\n",
    "\"\"\"\n",
    "print('Checking the Training on a Single Batch...')\n",
    "config = tf.ConfigProto(log_device_placement=True)\n",
    "config.gpu_options.allow_growth = True\n",
    "with tf.Session(config=config) as sess:\n",
    "    # Initializing the variables\n",
    "    sess.run(tf.global_variables_initializer())\n",
    "    \n",
    "    # Training cycle\n",
    "    for epoch in range(epochs):\n",
    "        batch_i = 1\n",
    "        for batch_features, batch_labels in helper.load_preprocess_training_batch(batch_i, batch_size):\n",
    "            train_neural_network(sess, optimizer, keep_probability, batch_features, batch_labels)\n",
    "        print('Epoch {:>2}, CIFAR-10 Batch {}:  '.format(epoch + 1, batch_i), end='', flush=False)\n",
    "        print_stats(sess, batch_features, batch_labels, cost, accuracy)"
   ]
  },
  {
   "cell_type": "markdown",
   "metadata": {},
   "source": [
    "### Fully Train the Model\n",
    "Now that you got a good accuracy with a single CIFAR-10 batch, try it with all five batches."
   ]
  },
  {
   "cell_type": "code",
   "execution_count": 19,
   "metadata": {},
   "outputs": [
    {
     "name": "stdout",
     "output_type": "stream",
     "text": [
      "Training...\n",
      "Epoch  1, CIFAR-10 Batch 1:  B:cost 2.34736 accuracy 0.0% V:cost 0.00000 accuracy 10.0%\n",
      "Epoch  1, CIFAR-10 Batch 2:  B:cost 2.32265 accuracy 0.0% V:cost 0.00000 accuracy 10.1%\n",
      "Epoch  1, CIFAR-10 Batch 3:  B:cost 2.23431 accuracy 0.0% V:cost 0.00000 accuracy 14.7%\n",
      "Epoch  1, CIFAR-10 Batch 4:  B:cost 2.21410 accuracy 0.0% V:cost 0.00000 accuracy 18.0%\n",
      "Epoch  1, CIFAR-10 Batch 5:  B:cost 2.22247 accuracy 0.0% V:cost 0.00000 accuracy 16.9%\n",
      "Epoch  2, CIFAR-10 Batch 1:  B:cost 2.15425 accuracy 0.0% V:cost 0.00000 accuracy 24.0%\n",
      "Epoch  2, CIFAR-10 Batch 2:  B:cost 2.09207 accuracy 0.0% V:cost 0.00000 accuracy 25.5%\n",
      "Epoch  2, CIFAR-10 Batch 3:  B:cost 1.85098 accuracy 0.0% V:cost 0.00000 accuracy 28.3%\n",
      "Epoch  2, CIFAR-10 Batch 4:  B:cost 1.89833 accuracy 0.0% V:cost 0.00000 accuracy 28.9%\n",
      "Epoch  2, CIFAR-10 Batch 5:  B:cost 1.91882 accuracy 0.0% V:cost 0.00000 accuracy 28.2%\n",
      "Epoch  3, CIFAR-10 Batch 1:  B:cost 1.87927 accuracy 0.0% V:cost 0.00000 accuracy 35.3%\n",
      "Epoch  3, CIFAR-10 Batch 2:  B:cost 1.79940 accuracy 0.0% V:cost 0.00000 accuracy 35.2%\n",
      "Epoch  3, CIFAR-10 Batch 3:  B:cost 1.53379 accuracy 0.0% V:cost 0.00000 accuracy 39.6%\n",
      "Epoch  3, CIFAR-10 Batch 4:  B:cost 1.60181 accuracy 0.0% V:cost 0.00000 accuracy 42.7%\n",
      "Epoch  3, CIFAR-10 Batch 5:  B:cost 1.61174 accuracy 0.0% V:cost 0.00000 accuracy 42.2%\n",
      "Epoch  4, CIFAR-10 Batch 1:  B:cost 1.63841 accuracy 0.0% V:cost 0.00000 accuracy 46.1%\n",
      "Epoch  4, CIFAR-10 Batch 2:  B:cost 1.41001 accuracy 0.0% V:cost 0.00000 accuracy 45.6%\n",
      "Epoch  4, CIFAR-10 Batch 3:  B:cost 1.37388 accuracy 0.0% V:cost 0.00000 accuracy 45.9%\n",
      "Epoch  4, CIFAR-10 Batch 4:  B:cost 1.40837 accuracy 0.0% V:cost 0.00000 accuracy 47.9%\n",
      "Epoch  4, CIFAR-10 Batch 5:  B:cost 1.50745 accuracy 0.0% V:cost 0.00000 accuracy 47.2%\n",
      "Epoch  5, CIFAR-10 Batch 1:  B:cost 1.48298 accuracy 0.0% V:cost 0.00000 accuracy 50.2%\n",
      "Epoch  5, CIFAR-10 Batch 2:  B:cost 1.28717 accuracy 0.0% V:cost 0.00000 accuracy 49.9%\n",
      "Epoch  5, CIFAR-10 Batch 3:  B:cost 1.27603 accuracy 0.0% V:cost 0.00000 accuracy 50.7%\n",
      "Epoch  5, CIFAR-10 Batch 4:  B:cost 1.31045 accuracy 0.0% V:cost 0.00000 accuracy 52.4%\n",
      "Epoch  5, CIFAR-10 Batch 5:  B:cost 1.38989 accuracy 0.0% V:cost 0.00000 accuracy 52.4%\n",
      "Epoch  6, CIFAR-10 Batch 1:  B:cost 1.30299 accuracy 0.0% V:cost 0.00000 accuracy 55.0%\n",
      "Epoch  6, CIFAR-10 Batch 2:  B:cost 1.17337 accuracy 0.0% V:cost 0.00000 accuracy 53.7%\n",
      "Epoch  6, CIFAR-10 Batch 3:  B:cost 1.15001 accuracy 0.0% V:cost 0.00000 accuracy 53.6%\n",
      "Epoch  6, CIFAR-10 Batch 4:  B:cost 1.22142 accuracy 0.0% V:cost 0.00000 accuracy 55.7%\n",
      "Epoch  6, CIFAR-10 Batch 5:  B:cost 1.25413 accuracy 0.0% V:cost 0.00000 accuracy 56.1%\n",
      "Epoch  7, CIFAR-10 Batch 1:  B:cost 1.22301 accuracy 0.0% V:cost 0.00000 accuracy 56.4%\n",
      "Epoch  7, CIFAR-10 Batch 2:  B:cost 1.13689 accuracy 0.0% V:cost 0.00000 accuracy 56.8%\n",
      "Epoch  7, CIFAR-10 Batch 3:  B:cost 1.02757 accuracy 0.0% V:cost 0.00000 accuracy 58.9%\n",
      "Epoch  7, CIFAR-10 Batch 4:  B:cost 1.06147 accuracy 0.0% V:cost 0.00000 accuracy 60.3%\n",
      "Epoch  7, CIFAR-10 Batch 5:  B:cost 1.11094 accuracy 0.0% V:cost 0.00000 accuracy 60.0%\n",
      "Epoch  8, CIFAR-10 Batch 1:  B:cost 1.06049 accuracy 0.0% V:cost 0.00000 accuracy 59.6%\n",
      "Epoch  8, CIFAR-10 Batch 2:  B:cost 1.06538 accuracy 0.0% V:cost 0.00000 accuracy 61.6%\n",
      "Epoch  8, CIFAR-10 Batch 3:  B:cost 0.89375 accuracy 0.0% V:cost 0.00000 accuracy 61.5%\n",
      "Epoch  8, CIFAR-10 Batch 4:  B:cost 0.97335 accuracy 0.0% V:cost 0.00000 accuracy 61.8%\n",
      "Epoch  8, CIFAR-10 Batch 5:  B:cost 1.11365 accuracy 0.0% V:cost 0.00000 accuracy 61.0%\n",
      "Epoch  9, CIFAR-10 Batch 1:  B:cost 1.00911 accuracy 0.0% V:cost 0.00000 accuracy 62.6%\n",
      "Epoch  9, CIFAR-10 Batch 2:  B:cost 0.97541 accuracy 0.0% V:cost 0.00000 accuracy 63.5%\n",
      "Epoch  9, CIFAR-10 Batch 3:  B:cost 0.88794 accuracy 0.0% V:cost 0.00000 accuracy 63.7%\n",
      "Epoch  9, CIFAR-10 Batch 4:  B:cost 0.89797 accuracy 0.0% V:cost 0.00000 accuracy 64.9%\n",
      "Epoch  9, CIFAR-10 Batch 5:  B:cost 1.04427 accuracy 0.0% V:cost 0.00000 accuracy 64.4%\n",
      "Epoch 10, CIFAR-10 Batch 1:  B:cost 0.94856 accuracy 0.0% V:cost 0.00000 accuracy 64.9%\n",
      "Epoch 10, CIFAR-10 Batch 2:  B:cost 0.97647 accuracy 0.0% V:cost 0.00000 accuracy 65.4%\n",
      "Epoch 10, CIFAR-10 Batch 3:  B:cost 0.78649 accuracy 0.0% V:cost 0.00000 accuracy 65.9%\n",
      "Epoch 10, CIFAR-10 Batch 4:  B:cost 0.80306 accuracy 0.0% V:cost 0.00000 accuracy 64.7%\n",
      "Epoch 10, CIFAR-10 Batch 5:  B:cost 0.97915 accuracy 0.0% V:cost 0.00000 accuracy 65.6%\n",
      "Epoch 11, CIFAR-10 Batch 1:  B:cost 0.89647 accuracy 0.0% V:cost 0.00000 accuracy 66.8%\n",
      "Epoch 11, CIFAR-10 Batch 2:  B:cost 0.91565 accuracy 0.0% V:cost 0.00000 accuracy 67.5%\n",
      "Epoch 11, CIFAR-10 Batch 3:  B:cost 0.71071 accuracy 0.0% V:cost 0.00000 accuracy 66.9%\n",
      "Epoch 11, CIFAR-10 Batch 4:  B:cost 0.72359 accuracy 0.0% V:cost 0.00000 accuracy 68.3%\n",
      "Epoch 11, CIFAR-10 Batch 5:  B:cost 0.91413 accuracy 0.0% V:cost 0.00000 accuracy 67.1%\n",
      "Epoch 12, CIFAR-10 Batch 1:  B:cost 0.82478 accuracy 0.0% V:cost 0.00000 accuracy 68.3%\n",
      "Epoch 12, CIFAR-10 Batch 2:  B:cost 0.79749 accuracy 0.0% V:cost 0.00000 accuracy 68.8%\n",
      "Epoch 12, CIFAR-10 Batch 3:  B:cost 0.66051 accuracy 0.0% V:cost 0.00000 accuracy 69.8%\n",
      "Epoch 12, CIFAR-10 Batch 4:  B:cost 0.63304 accuracy 0.0% V:cost 0.00000 accuracy 69.9%\n",
      "Epoch 12, CIFAR-10 Batch 5:  B:cost 0.82155 accuracy 0.0% V:cost 0.00000 accuracy 68.9%\n",
      "Epoch 13, CIFAR-10 Batch 1:  B:cost 0.79564 accuracy 0.0% V:cost 0.00000 accuracy 69.8%\n",
      "Epoch 13, CIFAR-10 Batch 2:  B:cost 0.72391 accuracy 0.0% V:cost 0.00000 accuracy 69.6%\n",
      "Epoch 13, CIFAR-10 Batch 3:  B:cost 0.55218 accuracy 0.0% V:cost 0.00000 accuracy 69.8%\n",
      "Epoch 13, CIFAR-10 Batch 4:  B:cost 0.59110 accuracy 0.0% V:cost 0.00000 accuracy 69.8%\n",
      "Epoch 13, CIFAR-10 Batch 5:  B:cost 0.71293 accuracy 0.0% V:cost 0.00000 accuracy 69.6%\n",
      "Epoch 14, CIFAR-10 Batch 1:  B:cost 0.70667 accuracy 0.0% V:cost 0.00000 accuracy 70.2%\n",
      "Epoch 14, CIFAR-10 Batch 2:  B:cost 0.74210 accuracy 0.0% V:cost 0.00000 accuracy 70.1%\n",
      "Epoch 14, CIFAR-10 Batch 3:  B:cost 0.58804 accuracy 0.0% V:cost 0.00000 accuracy 70.6%\n",
      "Epoch 14, CIFAR-10 Batch 4:  B:cost 0.55679 accuracy 0.0% V:cost 0.00000 accuracy 71.7%\n",
      "Epoch 14, CIFAR-10 Batch 5:  B:cost 0.66157 accuracy 0.0% V:cost 0.00000 accuracy 70.8%\n",
      "Epoch 15, CIFAR-10 Batch 1:  B:cost 0.67140 accuracy 0.0% V:cost 0.00000 accuracy 70.0%\n",
      "Epoch 15, CIFAR-10 Batch 2:  B:cost 0.67198 accuracy 0.0% V:cost 0.00000 accuracy 71.2%\n",
      "Epoch 15, CIFAR-10 Batch 3:  B:cost 0.50368 accuracy 0.0% V:cost 0.00000 accuracy 71.4%\n",
      "Epoch 15, CIFAR-10 Batch 4:  B:cost 0.52262 accuracy 0.0% V:cost 0.00000 accuracy 72.3%\n",
      "Epoch 15, CIFAR-10 Batch 5:  B:cost 0.62854 accuracy 0.0% V:cost 0.00000 accuracy 72.5%\n",
      "Epoch 16, CIFAR-10 Batch 1:  B:cost 0.66546 accuracy 0.0% V:cost 0.00000 accuracy 73.1%\n",
      "Epoch 16, CIFAR-10 Batch 2:  B:cost 0.60488 accuracy 0.0% V:cost 0.00000 accuracy 72.4%\n",
      "Epoch 16, CIFAR-10 Batch 3:  B:cost 0.47118 accuracy 0.0% V:cost 0.00000 accuracy 72.3%\n",
      "Epoch 16, CIFAR-10 Batch 4:  B:cost 0.51301 accuracy 0.0% V:cost 0.00000 accuracy 73.1%\n",
      "Epoch 16, CIFAR-10 Batch 5:  B:cost 0.58301 accuracy 0.0% V:cost 0.00000 accuracy 73.8%\n",
      "Epoch 17, CIFAR-10 Batch 1:  B:cost 0.64039 accuracy 0.0% V:cost 0.00000 accuracy 72.5%\n",
      "Epoch 17, CIFAR-10 Batch 2:  B:cost 0.62010 accuracy 0.0% V:cost 0.00000 accuracy 73.5%\n",
      "Epoch 17, CIFAR-10 Batch 3:  B:cost 0.37316 accuracy 0.0% V:cost 0.00000 accuracy 73.4%\n",
      "Epoch 17, CIFAR-10 Batch 4:  B:cost 0.41011 accuracy 0.0% V:cost 0.00000 accuracy 74.1%\n",
      "Epoch 17, CIFAR-10 Batch 5:  B:cost 0.51144 accuracy 0.0% V:cost 0.00000 accuracy 72.3%\n",
      "Epoch 18, CIFAR-10 Batch 1:  B:cost 0.61922 accuracy 0.0% V:cost 0.00000 accuracy 72.4%\n",
      "Epoch 18, CIFAR-10 Batch 2:  B:cost 0.55820 accuracy 0.0% V:cost 0.00000 accuracy 74.2%\n",
      "Epoch 18, CIFAR-10 Batch 3:  B:cost 0.36869 accuracy 0.0% V:cost 0.00000 accuracy 74.2%\n",
      "Epoch 18, CIFAR-10 Batch 4:  B:cost 0.45020 accuracy 0.0% V:cost 0.00000 accuracy 74.0%\n",
      "Epoch 18, CIFAR-10 Batch 5:  B:cost 0.46033 accuracy 0.0% V:cost 0.00000 accuracy 74.9%\n",
      "Epoch 19, CIFAR-10 Batch 1:  B:cost 0.59856 accuracy 0.0% V:cost 0.00000 accuracy 73.7%\n",
      "Epoch 19, CIFAR-10 Batch 2:  B:cost 0.48435 accuracy 0.0% V:cost 0.00000 accuracy 73.7%\n",
      "Epoch 19, CIFAR-10 Batch 3:  B:cost 0.36032 accuracy 0.0% V:cost 0.00000 accuracy 75.1%\n",
      "Epoch 19, CIFAR-10 Batch 4:  B:cost 0.38773 accuracy 0.0% V:cost 0.00000 accuracy 74.9%\n",
      "Epoch 19, CIFAR-10 Batch 5:  B:cost 0.47528 accuracy 0.0% V:cost 0.00000 accuracy 74.9%\n",
      "Epoch 20, CIFAR-10 Batch 1:  B:cost 0.56020 accuracy 0.0% V:cost 0.00000 accuracy 74.3%\n",
      "Epoch 20, CIFAR-10 Batch 2:  B:cost 0.49029 accuracy 0.0% V:cost 0.00000 accuracy 74.6%\n",
      "Epoch 20, CIFAR-10 Batch 3:  B:cost 0.27555 accuracy 0.0% V:cost 0.00000 accuracy 76.0%\n",
      "Epoch 20, CIFAR-10 Batch 4:  B:cost 0.43172 accuracy 0.0% V:cost 0.00000 accuracy 75.5%\n",
      "Epoch 20, CIFAR-10 Batch 5:  B:cost 0.47599 accuracy 0.0% V:cost 0.00000 accuracy 74.3%\n",
      "Epoch 21, CIFAR-10 Batch 1:  B:cost 0.50199 accuracy 0.0% V:cost 0.00000 accuracy 74.7%\n",
      "Epoch 21, CIFAR-10 Batch 2:  B:cost 0.42851 accuracy 0.0% V:cost 0.00000 accuracy 74.9%\n",
      "Epoch 21, CIFAR-10 Batch 3:  B:cost 0.33198 accuracy 0.0% V:cost 0.00000 accuracy 76.1%\n",
      "Epoch 21, CIFAR-10 Batch 4:  B:cost 0.40594 accuracy 0.0% V:cost 0.00000 accuracy 75.1%\n",
      "Epoch 21, CIFAR-10 Batch 5:  B:cost 0.41209 accuracy 0.0% V:cost 0.00000 accuracy 75.1%\n",
      "Epoch 22, CIFAR-10 Batch 1:  B:cost 0.44479 accuracy 0.0% V:cost 0.00000 accuracy 75.5%\n",
      "Epoch 22, CIFAR-10 Batch 2:  B:cost 0.43148 accuracy 0.0% V:cost 0.00000 accuracy 76.1%\n",
      "Epoch 22, CIFAR-10 Batch 3:  B:cost 0.32904 accuracy 0.0% V:cost 0.00000 accuracy 74.0%\n",
      "Epoch 22, CIFAR-10 Batch 4:  B:cost 0.39353 accuracy 0.0% V:cost 0.00000 accuracy 74.5%\n",
      "Epoch 22, CIFAR-10 Batch 5:  B:cost 0.35674 accuracy 0.0% V:cost 0.00000 accuracy 75.2%\n",
      "Epoch 23, CIFAR-10 Batch 1:  B:cost 0.44253 accuracy 0.0% V:cost 0.00000 accuracy 75.3%\n",
      "Epoch 23, CIFAR-10 Batch 2:  B:cost 0.46421 accuracy 0.0% V:cost 0.00000 accuracy 75.9%\n",
      "Epoch 23, CIFAR-10 Batch 3:  B:cost 0.32558 accuracy 0.0% V:cost 0.00000 accuracy 75.9%\n",
      "Epoch 23, CIFAR-10 Batch 4:  B:cost 0.30537 accuracy 0.0% V:cost 0.00000 accuracy 76.1%\n",
      "Epoch 23, CIFAR-10 Batch 5:  B:cost 0.35211 accuracy 0.0% V:cost 0.00000 accuracy 76.3%\n",
      "Epoch 24, CIFAR-10 Batch 1:  B:cost 0.43149 accuracy 0.0% V:cost 0.00000 accuracy 76.6%\n",
      "Epoch 24, CIFAR-10 Batch 2:  B:cost 0.47843 accuracy 0.0% V:cost 0.00000 accuracy 74.6%\n",
      "Epoch 24, CIFAR-10 Batch 3:  B:cost 0.28544 accuracy 0.0% V:cost 0.00000 accuracy 75.8%\n",
      "Epoch 24, CIFAR-10 Batch 4:  B:cost 0.36255 accuracy 0.0% V:cost 0.00000 accuracy 75.8%\n",
      "Epoch 24, CIFAR-10 Batch 5:  B:cost 0.34035 accuracy 0.0% V:cost 0.00000 accuracy 75.4%\n",
      "Epoch 25, CIFAR-10 Batch 1:  B:cost 0.40441 accuracy 0.0% V:cost 0.00000 accuracy 76.7%\n",
      "Epoch 25, CIFAR-10 Batch 2:  B:cost 0.41488 accuracy 0.0% V:cost 0.00000 accuracy 75.8%\n",
      "Epoch 25, CIFAR-10 Batch 3:  B:cost 0.24782 accuracy 0.0% V:cost 0.00000 accuracy 76.2%\n",
      "Epoch 25, CIFAR-10 Batch 4:  B:cost 0.34115 accuracy 0.0% V:cost 0.00000 accuracy 75.5%\n",
      "Epoch 25, CIFAR-10 Batch 5:  B:cost 0.27301 accuracy 0.0% V:cost 0.00000 accuracy 75.9%\n",
      "Epoch 26, CIFAR-10 Batch 1:  B:cost 0.37781 accuracy 0.0% V:cost 0.00000 accuracy 76.7%\n",
      "Epoch 26, CIFAR-10 Batch 2:  B:cost 0.38945 accuracy 0.0% V:cost 0.00000 accuracy 75.4%\n",
      "Epoch 26, CIFAR-10 Batch 3:  B:cost 0.22381 accuracy 0.0% V:cost 0.00000 accuracy 77.2%\n",
      "Epoch 26, CIFAR-10 Batch 4:  B:cost 0.28419 accuracy 0.0% V:cost 0.00000 accuracy 76.3%\n",
      "Epoch 26, CIFAR-10 Batch 5:  B:cost 0.24421 accuracy 0.0% V:cost 0.00000 accuracy 76.3%\n",
      "Epoch 27, CIFAR-10 Batch 1:  B:cost 0.28081 accuracy 0.0% V:cost 0.00000 accuracy 77.2%\n",
      "Epoch 27, CIFAR-10 Batch 2:  B:cost 0.42351 accuracy 0.0% V:cost 0.00000 accuracy 74.8%\n",
      "Epoch 27, CIFAR-10 Batch 3:  B:cost 0.24357 accuracy 0.0% V:cost 0.00000 accuracy 75.6%\n",
      "Epoch 27, CIFAR-10 Batch 4:  B:cost 0.28025 accuracy 0.0% V:cost 0.00000 accuracy 76.3%\n",
      "Epoch 27, CIFAR-10 Batch 5:  B:cost 0.30418 accuracy 0.0% V:cost 0.00000 accuracy 77.0%\n",
      "Epoch 28, CIFAR-10 Batch 1:  B:cost 0.32654 accuracy 0.0% V:cost 0.00000 accuracy 76.7%\n",
      "Epoch 28, CIFAR-10 Batch 2:  B:cost 0.37116 accuracy 0.0% V:cost 0.00000 accuracy 76.2%\n",
      "Epoch 28, CIFAR-10 Batch 3:  B:cost 0.20648 accuracy 0.0% V:cost 0.00000 accuracy 77.4%\n",
      "Epoch 28, CIFAR-10 Batch 4:  B:cost 0.28192 accuracy 0.0% V:cost 0.00000 accuracy 77.5%\n",
      "Epoch 28, CIFAR-10 Batch 5:  B:cost 0.23621 accuracy 0.0% V:cost 0.00000 accuracy 77.5%\n",
      "Epoch 29, CIFAR-10 Batch 1:  B:cost 0.29584 accuracy 0.0% V:cost 0.00000 accuracy 77.6%\n",
      "Epoch 29, CIFAR-10 Batch 2:  B:cost 0.32518 accuracy 0.0% V:cost 0.00000 accuracy 77.4%\n",
      "Epoch 29, CIFAR-10 Batch 3:  B:cost 0.22861 accuracy 0.0% V:cost 0.00000 accuracy 77.6%\n",
      "Epoch 29, CIFAR-10 Batch 4:  B:cost 0.25256 accuracy 0.0% V:cost 0.00000 accuracy 77.5%\n",
      "Epoch 29, CIFAR-10 Batch 5:  B:cost 0.21669 accuracy 0.0% V:cost 0.00000 accuracy 77.6%\n",
      "Epoch 30, CIFAR-10 Batch 1:  B:cost 0.28946 accuracy 0.0% V:cost 0.00000 accuracy 77.0%\n",
      "Epoch 30, CIFAR-10 Batch 2:  B:cost 0.37634 accuracy 0.0% V:cost 0.00000 accuracy 77.2%\n",
      "Epoch 30, CIFAR-10 Batch 3:  B:cost 0.16946 accuracy 0.0% V:cost 0.00000 accuracy 77.6%\n",
      "Epoch 30, CIFAR-10 Batch 4:  B:cost 0.21420 accuracy 0.0% V:cost 0.00000 accuracy 78.2%\n",
      "Epoch 30, CIFAR-10 Batch 5:  B:cost 0.21315 accuracy 0.0% V:cost 0.00000 accuracy 77.7%\n",
      "Epoch 31, CIFAR-10 Batch 1:  B:cost 0.26583 accuracy 0.0% V:cost 0.00000 accuracy 77.9%\n",
      "Epoch 31, CIFAR-10 Batch 2:  B:cost 0.25329 accuracy 0.0% V:cost 0.00000 accuracy 77.3%\n",
      "Epoch 31, CIFAR-10 Batch 3:  B:cost 0.15846 accuracy 0.0% V:cost 0.00000 accuracy 78.4%\n",
      "Epoch 31, CIFAR-10 Batch 4:  B:cost 0.29255 accuracy 0.0% V:cost 0.00000 accuracy 76.9%\n",
      "Epoch 31, CIFAR-10 Batch 5:  B:cost 0.21627 accuracy 0.0% V:cost 0.00000 accuracy 78.2%\n",
      "Epoch 32, CIFAR-10 Batch 1:  B:cost 0.25298 accuracy 0.0% V:cost 0.00000 accuracy 78.3%\n",
      "Epoch 32, CIFAR-10 Batch 2:  B:cost 0.33648 accuracy 0.0% V:cost 0.00000 accuracy 76.5%\n",
      "Epoch 32, CIFAR-10 Batch 3:  B:cost 0.17365 accuracy 0.0% V:cost 0.00000 accuracy 77.5%\n",
      "Epoch 32, CIFAR-10 Batch 4:  B:cost 0.22592 accuracy 0.0% V:cost 0.00000 accuracy 78.4%\n",
      "Epoch 32, CIFAR-10 Batch 5:  B:cost 0.20052 accuracy 0.0% V:cost 0.00000 accuracy 78.0%\n",
      "Epoch 33, CIFAR-10 Batch 1:  B:cost 0.23871 accuracy 0.0% V:cost 0.00000 accuracy 78.6%\n",
      "Epoch 33, CIFAR-10 Batch 2:  B:cost 0.27472 accuracy 0.0% V:cost 0.00000 accuracy 77.6%\n",
      "Epoch 33, CIFAR-10 Batch 3:  B:cost 0.15335 accuracy 0.0% V:cost 0.00000 accuracy 78.7%\n",
      "Epoch 33, CIFAR-10 Batch 4:  B:cost 0.21532 accuracy 0.0% V:cost 0.00000 accuracy 79.1%\n",
      "Epoch 33, CIFAR-10 Batch 5:  B:cost 0.16649 accuracy 0.0% V:cost 0.00000 accuracy 78.6%\n",
      "Epoch 34, CIFAR-10 Batch 1:  B:cost 0.23175 accuracy 0.0% V:cost 0.00000 accuracy 79.2%\n",
      "Epoch 34, CIFAR-10 Batch 2:  B:cost 0.25715 accuracy 0.0% V:cost 0.00000 accuracy 77.9%\n",
      "Epoch 34, CIFAR-10 Batch 3:  B:cost 0.15453 accuracy 0.0% V:cost 0.00000 accuracy 78.6%\n",
      "Epoch 34, CIFAR-10 Batch 4:  B:cost 0.22639 accuracy 0.0% V:cost 0.00000 accuracy 77.7%\n",
      "Epoch 34, CIFAR-10 Batch 5:  B:cost 0.15228 accuracy 0.0% V:cost 0.00000 accuracy 78.3%\n",
      "Epoch 35, CIFAR-10 Batch 1:  B:cost 0.21102 accuracy 0.0% V:cost 0.00000 accuracy 79.1%\n",
      "Epoch 35, CIFAR-10 Batch 2:  B:cost 0.21487 accuracy 0.0% V:cost 0.00000 accuracy 78.6%\n",
      "Epoch 35, CIFAR-10 Batch 3:  B:cost 0.12963 accuracy 0.0% V:cost 0.00000 accuracy 78.8%\n",
      "Epoch 35, CIFAR-10 Batch 4:  B:cost 0.22569 accuracy 0.0% V:cost 0.00000 accuracy 78.8%\n",
      "Epoch 35, CIFAR-10 Batch 5:  B:cost 0.20420 accuracy 0.0% V:cost 0.00000 accuracy 77.6%\n",
      "Epoch 36, CIFAR-10 Batch 1:  B:cost 0.22297 accuracy 0.0% V:cost 0.00000 accuracy 79.1%\n",
      "Epoch 36, CIFAR-10 Batch 2:  B:cost 0.19084 accuracy 0.0% V:cost 0.00000 accuracy 77.9%\n",
      "Epoch 36, CIFAR-10 Batch 3:  B:cost 0.17066 accuracy 0.0% V:cost 0.00000 accuracy 77.7%\n",
      "Epoch 36, CIFAR-10 Batch 4:  B:cost 0.20699 accuracy 0.0% V:cost 0.00000 accuracy 79.0%\n",
      "Epoch 36, CIFAR-10 Batch 5:  B:cost 0.19407 accuracy 0.0% V:cost 0.00000 accuracy 78.1%\n",
      "Epoch 37, CIFAR-10 Batch 1:  B:cost 0.18669 accuracy 0.0% V:cost 0.00000 accuracy 79.7%\n",
      "Epoch 37, CIFAR-10 Batch 2:  B:cost 0.19725 accuracy 0.0% V:cost 0.00000 accuracy 78.0%\n",
      "Epoch 37, CIFAR-10 Batch 3:  B:cost 0.16409 accuracy 0.0% V:cost 0.00000 accuracy 78.5%\n",
      "Epoch 37, CIFAR-10 Batch 4:  B:cost 0.20443 accuracy 0.0% V:cost 0.00000 accuracy 78.3%\n",
      "Epoch 37, CIFAR-10 Batch 5:  B:cost 0.14162 accuracy 0.0% V:cost 0.00000 accuracy 79.0%\n",
      "Epoch 38, CIFAR-10 Batch 1:  B:cost 0.17938 accuracy 0.0% V:cost 0.00000 accuracy 78.7%\n",
      "Epoch 38, CIFAR-10 Batch 2:  B:cost 0.19379 accuracy 0.0% V:cost 0.00000 accuracy 78.4%\n",
      "Epoch 38, CIFAR-10 Batch 3:  B:cost 0.15887 accuracy 0.0% V:cost 0.00000 accuracy 78.5%\n",
      "Epoch 38, CIFAR-10 Batch 4:  B:cost 0.13703 accuracy 0.0% V:cost 0.00000 accuracy 79.2%\n",
      "Epoch 38, CIFAR-10 Batch 5:  B:cost 0.08481 accuracy 0.0% V:cost 0.00000 accuracy 79.1%\n",
      "Epoch 39, CIFAR-10 Batch 1:  B:cost 0.18148 accuracy 0.0% V:cost 0.00000 accuracy 79.7%\n",
      "Epoch 39, CIFAR-10 Batch 2:  B:cost 0.20900 accuracy 0.0% V:cost 0.00000 accuracy 78.6%\n",
      "Epoch 39, CIFAR-10 Batch 3:  B:cost 0.16902 accuracy 0.0% V:cost 0.00000 accuracy 78.7%\n",
      "Epoch 39, CIFAR-10 Batch 4:  B:cost 0.14432 accuracy 0.0% V:cost 0.00000 accuracy 79.6%\n",
      "Epoch 39, CIFAR-10 Batch 5:  B:cost 0.14348 accuracy 0.0% V:cost 0.00000 accuracy 78.6%\n",
      "Epoch 40, CIFAR-10 Batch 1:  B:cost 0.17580 accuracy 0.0% V:cost 0.00000 accuracy 79.7%\n",
      "Epoch 40, CIFAR-10 Batch 2:  B:cost 0.19293 accuracy 0.0% V:cost 0.00000 accuracy 78.2%\n",
      "Epoch 40, CIFAR-10 Batch 3:  B:cost 0.12832 accuracy 0.0% V:cost 0.00000 accuracy 79.7%\n",
      "Epoch 40, CIFAR-10 Batch 4:  B:cost 0.18812 accuracy 0.0% V:cost 0.00000 accuracy 78.9%\n",
      "Epoch 40, CIFAR-10 Batch 5:  B:cost 0.13666 accuracy 0.0% V:cost 0.00000 accuracy 78.7%\n",
      "Epoch 41, CIFAR-10 Batch 1:  B:cost 0.14870 accuracy 0.0% V:cost 0.00000 accuracy 80.1%\n",
      "Epoch 41, CIFAR-10 Batch 2:  B:cost 0.14584 accuracy 0.0% V:cost 0.00000 accuracy 79.2%\n",
      "Epoch 41, CIFAR-10 Batch 3:  B:cost 0.10420 accuracy 0.0% V:cost 0.00000 accuracy 78.7%\n",
      "Epoch 41, CIFAR-10 Batch 4:  B:cost 0.18513 accuracy 0.0% V:cost 0.00000 accuracy 79.2%\n",
      "Epoch 41, CIFAR-10 Batch 5:  B:cost 0.11255 accuracy 0.0% V:cost 0.00000 accuracy 80.0%\n",
      "Epoch 42, CIFAR-10 Batch 1:  B:cost 0.16196 accuracy 0.0% V:cost 0.00000 accuracy 78.9%\n",
      "Epoch 42, CIFAR-10 Batch 2:  B:cost 0.15297 accuracy 0.0% V:cost 0.00000 accuracy 79.8%\n",
      "Epoch 42, CIFAR-10 Batch 3:  B:cost 0.10740 accuracy 0.0% V:cost 0.00000 accuracy 80.2%\n",
      "Epoch 42, CIFAR-10 Batch 4:  B:cost 0.13137 accuracy 0.0% V:cost 0.00000 accuracy 79.3%\n",
      "Epoch 42, CIFAR-10 Batch 5:  B:cost 0.10400 accuracy 0.0% V:cost 0.00000 accuracy 79.4%\n",
      "Epoch 43, CIFAR-10 Batch 1:  B:cost 0.17928 accuracy 0.0% V:cost 0.00000 accuracy 79.8%\n",
      "Epoch 43, CIFAR-10 Batch 2:  B:cost 0.14209 accuracy 0.0% V:cost 0.00000 accuracy 79.7%\n",
      "Epoch 43, CIFAR-10 Batch 3:  B:cost 0.12911 accuracy 0.0% V:cost 0.00000 accuracy 79.8%\n",
      "Epoch 43, CIFAR-10 Batch 4:  B:cost 0.14755 accuracy 0.0% V:cost 0.00000 accuracy 79.5%\n",
      "Epoch 43, CIFAR-10 Batch 5:  B:cost 0.09050 accuracy 0.0% V:cost 0.00000 accuracy 79.9%\n",
      "Epoch 44, CIFAR-10 Batch 1:  B:cost 0.18962 accuracy 0.0% V:cost 0.00000 accuracy 79.6%\n",
      "Epoch 44, CIFAR-10 Batch 2:  B:cost 0.13395 accuracy 0.0% V:cost 0.00000 accuracy 79.0%\n",
      "Epoch 44, CIFAR-10 Batch 3:  B:cost 0.09436 accuracy 0.0% V:cost 0.00000 accuracy 79.7%\n",
      "Epoch 44, CIFAR-10 Batch 4:  B:cost 0.12674 accuracy 0.0% V:cost 0.00000 accuracy 80.2%\n",
      "Epoch 44, CIFAR-10 Batch 5:  B:cost 0.08281 accuracy 0.0% V:cost 0.00000 accuracy 79.2%\n",
      "Epoch 45, CIFAR-10 Batch 1:  B:cost 0.11936 accuracy 0.0% V:cost 0.00000 accuracy 79.4%\n",
      "Epoch 45, CIFAR-10 Batch 2:  B:cost 0.12308 accuracy 0.0% V:cost 0.00000 accuracy 78.9%\n",
      "Epoch 45, CIFAR-10 Batch 3:  B:cost 0.12370 accuracy 0.0% V:cost 0.00000 accuracy 80.4%\n",
      "Epoch 45, CIFAR-10 Batch 4:  B:cost 0.16731 accuracy 0.0% V:cost 0.00000 accuracy 78.7%\n",
      "Epoch 45, CIFAR-10 Batch 5:  B:cost 0.08102 accuracy 0.0% V:cost 0.00000 accuracy 79.9%\n",
      "Epoch 46, CIFAR-10 Batch 1:  B:cost 0.14689 accuracy 0.0% V:cost 0.00000 accuracy 79.8%\n",
      "Epoch 46, CIFAR-10 Batch 2:  B:cost 0.10808 accuracy 0.0% V:cost 0.00000 accuracy 79.2%\n",
      "Epoch 46, CIFAR-10 Batch 3:  B:cost 0.12798 accuracy 0.0% V:cost 0.00000 accuracy 79.0%\n",
      "Epoch 46, CIFAR-10 Batch 4:  B:cost 0.13924 accuracy 0.0% V:cost 0.00000 accuracy 79.8%\n",
      "Epoch 46, CIFAR-10 Batch 5:  B:cost 0.06243 accuracy 0.0% V:cost 0.00000 accuracy 79.6%\n",
      "Epoch 47, CIFAR-10 Batch 1:  B:cost 0.14490 accuracy 0.0% V:cost 0.00000 accuracy 79.6%\n",
      "Epoch 47, CIFAR-10 Batch 2:  B:cost 0.08876 accuracy 0.0% V:cost 0.00000 accuracy 80.4%\n",
      "Epoch 47, CIFAR-10 Batch 3:  B:cost 0.09422 accuracy 0.0% V:cost 0.00000 accuracy 79.2%\n",
      "Epoch 47, CIFAR-10 Batch 4:  B:cost 0.12460 accuracy 0.0% V:cost 0.00000 accuracy 79.9%\n",
      "Epoch 47, CIFAR-10 Batch 5:  B:cost 0.06054 accuracy 0.0% V:cost 0.00000 accuracy 79.9%\n",
      "Epoch 48, CIFAR-10 Batch 1:  B:cost 0.09737 accuracy 0.0% V:cost 0.00000 accuracy 80.4%\n",
      "Epoch 48, CIFAR-10 Batch 2:  B:cost 0.09079 accuracy 0.0% V:cost 0.00000 accuracy 80.0%\n",
      "Epoch 48, CIFAR-10 Batch 3:  B:cost 0.12891 accuracy 0.0% V:cost 0.00000 accuracy 79.3%\n",
      "Epoch 48, CIFAR-10 Batch 4:  B:cost 0.11685 accuracy 0.0% V:cost 0.00000 accuracy 80.0%\n",
      "Epoch 48, CIFAR-10 Batch 5:  B:cost 0.06393 accuracy 0.0% V:cost 0.00000 accuracy 78.6%\n",
      "Epoch 49, CIFAR-10 Batch 1:  B:cost 0.13907 accuracy 0.0% V:cost 0.00000 accuracy 79.9%\n",
      "Epoch 49, CIFAR-10 Batch 2:  B:cost 0.09912 accuracy 0.0% V:cost 0.00000 accuracy 79.8%\n",
      "Epoch 49, CIFAR-10 Batch 3:  B:cost 0.11234 accuracy 0.0% V:cost 0.00000 accuracy 79.6%\n",
      "Epoch 49, CIFAR-10 Batch 4:  B:cost 0.12642 accuracy 0.0% V:cost 0.00000 accuracy 79.0%\n",
      "Epoch 49, CIFAR-10 Batch 5:  B:cost 0.07001 accuracy 0.0% V:cost 0.00000 accuracy 80.2%\n",
      "Epoch 50, CIFAR-10 Batch 1:  B:cost 0.10315 accuracy 0.0% V:cost 0.00000 accuracy 80.0%\n",
      "Epoch 50, CIFAR-10 Batch 2:  B:cost 0.09813 accuracy 0.0% V:cost 0.00000 accuracy 80.4%\n",
      "Epoch 50, CIFAR-10 Batch 3:  B:cost 0.11843 accuracy 0.0% V:cost 0.00000 accuracy 80.9%\n",
      "Epoch 50, CIFAR-10 Batch 4:  B:cost 0.11187 accuracy 0.0% V:cost 0.00000 accuracy 80.4%\n",
      "Epoch 50, CIFAR-10 Batch 5:  B:cost 0.04686 accuracy 0.0% V:cost 0.00000 accuracy 80.9%\n"
     ]
    }
   ],
   "source": [
    "\"\"\"\n",
    "DON'T MODIFY ANYTHING IN THIS CELL\n",
    "\"\"\"\n",
    "save_model_path = './image_classification'\n",
    "\n",
    "print('Training...')\n",
    "with tf.Session() as sess:\n",
    "    # Initializing the variables\n",
    "    sess.run(tf.global_variables_initializer())\n",
    "    \n",
    "    # Training cycle\n",
    "    for epoch in range(epochs):\n",
    "        # Loop over all batches\n",
    "        n_batches = 5\n",
    "        for batch_i in range(1, n_batches + 1):\n",
    "            for batch_features, batch_labels in helper.load_preprocess_training_batch(batch_i, batch_size):\n",
    "                train_neural_network(sess, optimizer, keep_probability, batch_features, batch_labels)\n",
    "            print('Epoch {:>2}, CIFAR-10 Batch {}:  '.format(epoch + 1, batch_i), end='')\n",
    "            print_stats(sess, batch_features, batch_labels, cost, accuracy)\n",
    "            \n",
    "    # Save Model\n",
    "    saver = tf.train.Saver()\n",
    "    save_path = saver.save(sess, save_model_path)"
   ]
  },
  {
   "cell_type": "markdown",
   "metadata": {},
   "source": [
    "# Checkpoint\n",
    "The model has been saved to disk.\n",
    "## Test Model\n",
    "Test your model against the test dataset.  This will be your final accuracy. You should have an accuracy greater than 50%. If you don't, keep tweaking the model architecture and parameters."
   ]
  },
  {
   "cell_type": "code",
   "execution_count": 20,
   "metadata": {},
   "outputs": [
    {
     "name": "stdout",
     "output_type": "stream",
     "text": [
      "INFO:tensorflow:Restoring parameters from ./image_classification\n",
      "Testing Accuracy: 0.7959849683544303\n",
      "\n"
     ]
    },
    {
     "data": {
      "image/png": "[encoded data removed]",
      "text/plain": [
       "<matplotlib.figure.Figure at 0x1acc87eef28>"
      ]
     },
     "metadata": {
      "image/png": {
       "height": 319,
       "width": 355
      }
     },
     "output_type": "display_data"
    }
   ],
   "source": [
    "\"\"\"\n",
    "DON'T MODIFY ANYTHING IN THIS CELL\n",
    "\"\"\"\n",
    "%matplotlib inline\n",
    "%config InlineBackend.figure_format = 'retina'\n",
    "\n",
    "import tensorflow as tf\n",
    "import pickle\n",
    "import helper\n",
    "import random\n",
    "\n",
    "# Set batch size if not already set\n",
    "try:\n",
    "    if batch_size:\n",
    "        pass\n",
    "except NameError:\n",
    "    batch_size = 64\n",
    "\n",
    "save_model_path = './image_classification'\n",
    "n_samples = 4\n",
    "top_n_predictions = 3\n",
    "\n",
    "def test_model():\n",
    "    \"\"\"\n",
    "    Test the saved model against the test dataset\n",
    "    \"\"\"\n",
    "\n",
    "    test_features, test_labels = pickle.load(open('preprocess_test.p', mode='rb'))\n",
    "    loaded_graph = tf.Graph()\n",
    "\n",
    "    with tf.Session(graph=loaded_graph) as sess:\n",
    "        # Load model\n",
    "        loader = tf.train.import_meta_graph(save_model_path + '.meta')\n",
    "        loader.restore(sess, save_model_path)\n",
    "\n",
    "        # Get Tensors from loaded model\n",
    "        loaded_x = loaded_graph.get_tensor_by_name('x:0')\n",
    "        loaded_y = loaded_graph.get_tensor_by_name('y:0')\n",
    "        loaded_keep_prob = loaded_graph.get_tensor_by_name('keep_prob:0')\n",
    "        loaded_logits = loaded_graph.get_tensor_by_name('logits:0')\n",
    "        loaded_acc = loaded_graph.get_tensor_by_name('accuracy:0')\n",
    "        \n",
    "        # Get accuracy in batches for memory limitations\n",
    "        test_batch_acc_total = 0\n",
    "        test_batch_count = 0\n",
    "        \n",
    "        for test_feature_batch, test_label_batch in helper.batch_features_labels(test_features, test_labels, batch_size):\n",
    "            test_batch_acc_total += sess.run(\n",
    "                loaded_acc,\n",
    "                feed_dict={loaded_x: test_feature_batch, loaded_y: test_label_batch, loaded_keep_prob: 1.0})\n",
    "            test_batch_count += 1\n",
    "\n",
    "        print('Testing Accuracy: {}\\n'.format(test_batch_acc_total/test_batch_count))\n",
    "\n",
    "        # Print Random Samples\n",
    "        random_test_features, random_test_labels = tuple(zip(*random.sample(list(zip(test_features, test_labels)), n_samples)))\n",
    "        random_test_predictions = sess.run(\n",
    "            tf.nn.top_k(tf.nn.softmax(loaded_logits), top_n_predictions),\n",
    "            feed_dict={loaded_x: random_test_features, loaded_y: random_test_labels, loaded_keep_prob: 1.0})\n",
    "        helper.display_image_predictions(random_test_features, random_test_labels, random_test_predictions)\n",
    "\n",
    "\n",
    "test_model()"
   ]
  },
  {
   "cell_type": "markdown",
   "metadata": {},
   "source": [
    "## Why 50-80% Accuracy?\n",
    "You might be wondering why you can't get an accuracy any higher. First things first, 50% isn't bad for a simple CNN.  Pure guessing would get you 10% accuracy. However, you might notice people are getting scores [well above 80%](http://rodrigob.github.io/are_we_there_yet/build/classification_datasets_results.html#43494641522d3130).  That's because we haven't taught you all there is to know about neural networks. We still need to cover a few more techniques.\n",
    "## Submitting This Project\n",
    "When submitting this project, make sure to run all the cells before saving the notebook.  Save the notebook file as \"dlnd_image_classification.ipynb\" and save it as a HTML file under \"File\" -> \"Download as\".  Include the \"helper.py\" and \"problem_unittests.py\" files in your submission."
   ]
  }
 ],
 "metadata": {
  "anaconda-cloud": {},
  "kernelspec": {
   "display_name": "Python 3",
   "language": "python",
   "name": "python3"
  },
  "language_info": {
   "codemirror_mode": {
    "name": "ipython",
    "version": 3
   },
   "file_extension": ".py",
   "mimetype": "text/x-python",
   "name": "python",
   "nbconvert_exporter": "python",
   "pygments_lexer": "ipython3",
   "version": "3.5.2"
  }
 },
 "nbformat": 4,
 "nbformat_minor": 1
}
